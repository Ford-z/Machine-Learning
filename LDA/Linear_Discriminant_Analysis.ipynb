{
  "nbformat": 4,
  "nbformat_minor": 0,
  "metadata": {
    "colab": {
      "name": "Linear Discriminant Analysis.ipynb",
      "provenance": [],
      "collapsed_sections": [],
      "include_colab_link": true
    },
    "kernelspec": {
      "name": "python3",
      "display_name": "Python 3"
    }
  },
  "cells": [
    {
      "cell_type": "markdown",
      "metadata": {
        "id": "view-in-github",
        "colab_type": "text"
      },
      "source": [
        "<a href=\"https://colab.research.google.com/github/Fordzq6/Machine-Learning/blob/master/LDA/Linear_Discriminant_Analysis.ipynb\" target=\"_parent\"><img src=\"https://colab.research.google.com/assets/colab-badge.svg\" alt=\"Open In Colab\"/></a>"
      ]
    },
    {
      "cell_type": "markdown",
      "metadata": {
        "id": "WqbzJdPhQ4mX",
        "colab_type": "text"
      },
      "source": [
        "## **Linear Discriminant Analysis**\n",
        "\n"
      ]
    },
    {
      "cell_type": "code",
      "metadata": {
        "id": "X9swRoDEFKBc",
        "colab_type": "code",
        "colab": {}
      },
      "source": [
        "import numpy as np\n",
        "import math\n",
        "# Define the means\n",
        "meanA = np.array([1.0, 0])\n",
        "meanB = np.array([-1.0, 0])\n",
        "\n",
        "# Covariances\n",
        "cov = np.array([[0.5, 0], [0, 0.5]])\n",
        "\n",
        "# Priors\n",
        "pA = 0.6\n",
        "pB = 1 - pA"
      ],
      "execution_count": 0,
      "outputs": []
    },
    {
      "cell_type": "markdown",
      "metadata": {
        "colab_type": "text",
        "id": "dXj4wtztqQGd"
      },
      "source": [
        "We define the multivariate gaussian, which is at the core of the model that we will learn.\n",
        "$$  P(\\mathbf{x}|\\Pi_n)=f_n(\\mathbf{x}) = \\frac{1}{(2\\pi)^{r/2}|\\mathbf{\\Sigma}|^{1/2}}\\exp{(-\\frac{1}{2}(\\mathbf{x}-\\langle\\mathbf{x}_n\\rangle)^\\mathrm{T}}\\mathbf{\\Sigma}^{-1}(\\mathbf{x}-\\langle\\mathbf{x}_n\\rangle))\n",
        "$$\n",
        "Note that for LDA, the normalising constant $\\frac{1}{(2\\pi)^{r/2}|\\mathbf{\\Sigma}|^{1/2}}$ is the same for all classes and we can ignore it."
      ]
    },
    {
      "cell_type": "code",
      "metadata": {
        "id": "ymUpiKOzJGpS",
        "colab_type": "code",
        "colab": {}
      },
      "source": [
        "def multinormal(r,x, mu, invSigma):\n",
        "  p=(1/(pow(2*math.pi,(r/2))*pow(abs(cov),0.5))*np.exp(-0.5*(x-mu)*invSigma*(x-mu).transpose()))\n",
        "  return p"
      ],
      "execution_count": 0,
      "outputs": []
    },
    {
      "cell_type": "markdown",
      "metadata": {
        "id": "W5i2RbHVEzF7",
        "colab_type": "text"
      },
      "source": [
        "Decision Boundary:\n",
        "* $\\mathbf{L}(\\mathbf{x}) =  \\mathbf{M}^\\mathrm{T}\\mathbf{x} + \\mathbf{C}$\n",
        "* $\\mathbf{M} = \\mathbf{\\Sigma}^{-1}(\\bar{\\mathbf{x}}_\\mathrm{1} - \\bar{\\mathbf{x}}_\\mathrm{2})$\n",
        "* $\\mathbf{C} = -\\frac{1}{2}(\\bar{\\mathbf{x}}_\\mathrm{1} - \\bar{\\mathbf{x}}_\\mathrm{2})^\\mathrm{T}\\mathbf{\\Sigma}^{-1}(\\bar{\\mathbf{x}}_\\mathrm{1} + \\bar{\\mathbf{x}}_\\mathrm{2})+\\log_e\\frac{\\pi_\\mathrm{1}}{\\pi_\\mathrm{2}}$"
      ]
    },
    {
      "cell_type": "code",
      "metadata": {
        "id": "YvYNL7djXjVF",
        "colab_type": "code",
        "outputId": "ed9f5e5c-b520-46c0-a2fc-098c3f44f80d",
        "colab": {
          "base_uri": "https://localhost:8080/",
          "height": 54
        }
      },
      "source": [
        "# Define the decision rule\n",
        "icov = np.linalg.inv(cov)\n",
        "M=np.matmul(icov, meanA) - np.matmul(icov, meanB)\n",
        "print(M)\n",
        "c=-0.5*(meanA-meanB).transpose()*(np.matmul(icov, meanA) + np.matmul(icov, meanB)) + np.log(pA/pB)\n",
        "print(c)\n",
        "\n",
        "def L(x):\n",
        "  return M*x.reanspose()+c"
      ],
      "execution_count": 18,
      "outputs": [
        {
          "output_type": "stream",
          "text": [
            "[4. 0.]\n",
            "[0.40546511 0.40546511]\n"
          ],
          "name": "stdout"
        }
      ]
    }
  ]
}