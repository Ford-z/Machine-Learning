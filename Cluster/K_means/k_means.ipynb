{
  "nbformat": 4,
  "nbformat_minor": 0,
  "metadata": {
    "colab": {
      "name": "k-means.ipynb",
      "provenance": [],
      "include_colab_link": true
    },
    "kernelspec": {
      "name": "python3",
      "display_name": "Python 3"
    }
  },
  "cells": [
    {
      "cell_type": "markdown",
      "metadata": {
        "id": "view-in-github",
        "colab_type": "text"
      },
      "source": [
        "<a href=\"https://colab.research.google.com/github/Ford-z/Machine-Learning/blob/master/Cluster/K_means/k_means.ipynb\" target=\"_parent\"><img src=\"https://colab.research.google.com/assets/colab-badge.svg\" alt=\"Open In Colab\"/></a>"
      ]
    },
    {
      "cell_type": "markdown",
      "metadata": {
        "id": "6pSvpkVbsWuA",
        "colab_type": "text"
      },
      "source": [
        "# **k-means**"
      ]
    },
    {
      "cell_type": "code",
      "metadata": {
        "id": "qEhxL4SesJuF",
        "colab_type": "code",
        "colab": {}
      },
      "source": [
        "import math"
      ],
      "execution_count": 0,
      "outputs": []
    },
    {
      "cell_type": "markdown",
      "metadata": {
        "id": "t7VFbK8guDtw",
        "colab_type": "text"
      },
      "source": [
        "Euclidean distance"
      ]
    },
    {
      "cell_type": "code",
      "metadata": {
        "id": "VUkdOtfxtvFm",
        "colab_type": "code",
        "colab": {}
      },
      "source": [
        "def distance(x,y,miux,miuy):\n",
        "  distance=math.sqrt(pow((px-miux),2)+pow((py-miuy),2))\n",
        "  return distance"
      ],
      "execution_count": 0,
      "outputs": []
    },
    {
      "cell_type": "markdown",
      "metadata": {
        "id": "7fWRTbOMuNrV",
        "colab_type": "text"
      },
      "source": [
        "Label"
      ]
    },
    {
      "cell_type": "code",
      "metadata": {
        "id": "7sMG6MzkuN9m",
        "colab_type": "code",
        "colab": {}
      },
      "source": [
        "def compare(x,y,X1,Y1,X2,Y2):\n",
        "  distance1=distance(x,y,X1,Y1)\n",
        "  distance2=distance(x,y,X2,Y2)\n",
        "  if(distance1<=distance2):\n",
        "    label='A'\n",
        "  else:\n",
        "    label='B'\n",
        "  return label"
      ],
      "execution_count": 0,
      "outputs": []
    },
    {
      "cell_type": "markdown",
      "metadata": {
        "id": "09GOvnYbvxx5",
        "colab_type": "text"
      },
      "source": [
        "Process"
      ]
    },
    {
      "cell_type": "code",
      "metadata": {
        "id": "NlECtbW_vyJT",
        "colab_type": "code",
        "colab": {}
      },
      "source": [
        "def kmeans():\n",
        "  for i range():\n",
        "    compare()"
      ],
      "execution_count": 0,
      "outputs": []
    }
  ]
}