{
  "nbformat": 4,
  "nbformat_minor": 0,
  "metadata": {
    "kernelspec": {
      "display_name": "Python 3",
      "language": "python",
      "name": "python3"
    },
    "language_info": {
      "codemirror_mode": {
        "name": "ipython",
        "version": 3
      },
      "file_extension": ".py",
      "mimetype": "text/x-python",
      "name": "python",
      "nbconvert_exporter": "python",
      "pygments_lexer": "ipython3",
      "version": "3.6.5"
    },
    "colab": {
      "name": "Logistic Regression.ipynb",
      "provenance": [],
      "include_colab_link": true
    }
  },
  "cells": [
    {
      "cell_type": "markdown",
      "metadata": {
        "id": "view-in-github",
        "colab_type": "text"
      },
      "source": [
        "<a href=\"https://colab.research.google.com/github/Ford-z/Machine-Learning/blob/master/Logistic_Regression.ipynb\" target=\"_parent\"><img src=\"https://colab.research.google.com/assets/colab-badge.svg\" alt=\"Open In Colab\"/></a>"
      ]
    },
    {
      "cell_type": "markdown",
      "metadata": {
        "id": "_4pHoCZWOlJi",
        "colab_type": "text"
      },
      "source": [
        "Regression"
      ]
    },
    {
      "cell_type": "code",
      "metadata": {
        "id": "PHrG38x9OlJq",
        "colab_type": "code",
        "colab": {}
      },
      "source": [
        "%matplotlib inline\n",
        "import numpy as np\n",
        "import matplotlib.pyplot as plt\n",
        "import matplotlib.style\n",
        "import matplotlib as mpl\n",
        "\n",
        "mpl.rcParams['figure.figsize'] = [2, 2] # inches\n",
        "mpl.rcParams['font.size'] = 8\n",
        "\n",
        "# Define a function to do the most common plotting task\n",
        "def xyplot(x1=None, y1=None, x2=None, y2=None, x3=None, y3=None, title=None, fname=None):\n",
        "    plt.figure()\n",
        "    if x1 is not None and y1 is not None:\n",
        "        plt.plot(x1,y1,'b.')\n",
        "    if x2 is not None and y2 is not None:\n",
        "        plt.plot(x2,y2,'k-')\n",
        "    if x3 is not None and y3 is not None:\n",
        "        plt.plot(x3,y3,'r-')\n",
        "    plt.xlabel('x')\n",
        "    plt.ylabel('y')\n",
        "    plt.title(title)\n",
        "    plt.tight_layout()\n",
        "    if fname:\n",
        "        plt.savefig(fname)"
      ],
      "execution_count": 0,
      "outputs": []
    },
    {
      "cell_type": "markdown",
      "metadata": {
        "id": "41LxJ_hxOlJ5",
        "colab_type": "text"
      },
      "source": [
        "A simply model y = 3x+2 with noise"
      ]
    },
    {
      "cell_type": "code",
      "metadata": {
        "id": "LogkBuHnOlJ8",
        "colab_type": "code",
        "outputId": "f7743b89-8943-4a78-9373-b31197fb2a27",
        "colab": {
          "base_uri": "https://localhost:8080/",
          "height": 158
        }
      },
      "source": [
        "np.random.seed(123123)\n",
        "x = np.array([0, 1, 2, 3, 4, 5])\n",
        "y = 3*x+2\n",
        "# Add the noise\n",
        "t = y + 5*(np.random.rand(6)-0.5)\n",
        "xyplot(x,t,x2=x,y2=y,title=r'$y=3x+2$')"
      ],
      "execution_count": 2,
      "outputs": [
        {
          "output_type": "display_data",
          "data": {
            "image/png": "[encoded data removed]",
            "text/plain": [
              "<Figure size 144x144 with 1 Axes>"
            ]
          },
          "metadata": {
            "tags": []
          }
        }
      ]
    },
    {
      "cell_type": "markdown",
      "metadata": {
        "id": "qf5o4vPvOlKI",
        "colab_type": "text"
      },
      "source": [
        "Visualise the **residual errors** of each point"
      ]
    },
    {
      "cell_type": "code",
      "metadata": {
        "id": "60BWoYpgOlKK",
        "colab_type": "code",
        "outputId": "fc591a56-1ac6-43ca-ada8-e1391d4442c7",
        "colab": {
          "base_uri": "https://localhost:8080/",
          "height": 187
        }
      },
      "source": [
        "plt.plot(x,y,'k-')\n",
        "plt.plot(x,t,'b.')\n",
        "for i,j in enumerate(x):\n",
        "    plt.plot([j,j],[y[i],t[i]],'r-')\n",
        "plt.xlabel('x')\n",
        "plt.ylabel('y')"
      ],
      "execution_count": 3,
      "outputs": [
        {
          "output_type": "execute_result",
          "data": {
            "text/plain": [
              "Text(0, 0.5, 'y')"
            ]
          },
          "metadata": {
            "tags": []
          },
          "execution_count": 3
        },
        {
          "output_type": "display_data",
          "data": {
            "image/png": "[encoded data removed]",
            "text/plain": [
              "<Figure size 144x144 with 1 Axes>"
            ]
          },
          "metadata": {
            "tags": []
          }
        }
      ]
    },
    {
      "cell_type": "code",
      "metadata": {
        "id": "wT7lNqzDOlLV",
        "colab_type": "code",
        "colab": {}
      },
      "source": [
        ""
      ],
      "execution_count": 0,
      "outputs": []
    }
  ]
}