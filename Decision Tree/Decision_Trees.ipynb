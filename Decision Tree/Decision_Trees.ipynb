{
  "nbformat": 4,
  "nbformat_minor": 0,
  "metadata": {
    "colab": {
      "name": "Decision Trees",
      "provenance": [],
      "collapsed_sections": [],
      "include_colab_link": true
    },
    "kernelspec": {
      "display_name": "Python 3",
      "language": "python",
      "name": "python3"
    }
  },
  "cells": [
    {
      "cell_type": "markdown",
      "metadata": {
        "id": "view-in-github",
        "colab_type": "text"
      },
      "source": [
        "<a href=\"https://colab.research.google.com/github/Fordzq6/Machine-Learning/blob/master/Decision%20Tree/Decision_Trees.ipynb\" target=\"_parent\"><img src=\"https://colab.research.google.com/assets/colab-badge.svg\" alt=\"Open In Colab\"/></a>"
      ]
    },
    {
      "cell_type": "markdown",
      "metadata": {
        "id": "zp1a7Ms2ncI1",
        "colab_type": "text"
      },
      "source": [
        "# Decision Trees"
      ]
    },
    {
      "cell_type": "code",
      "metadata": {
        "id": "WFeL8bZmncJB",
        "colab_type": "code",
        "colab": {}
      },
      "source": [
        "!pip install -q mnist # this line instructs colab to install mnist\n",
        "import matplotlib.pyplot as plt\n",
        "import mnist\n",
        "import numpy as np\n",
        "import math\n",
        "from numpy.linalg import inv, det"
      ],
      "execution_count": 0,
      "outputs": []
    },
    {
      "cell_type": "markdown",
      "metadata": {
        "id": "SEWYYv-PSUkA",
        "colab_type": "text"
      },
      "source": [
        "The C4.5 Algorithm"
      ]
    },
    {
      "cell_type": "code",
      "metadata": {
        "id": "lQc-yFLDPmxu",
        "colab_type": "code",
        "colab": {}
      },
      "source": [
        "# Priors\n",
        "i=2"
      ],
      "execution_count": 0,
      "outputs": []
    },
    {
      "cell_type": "markdown",
      "metadata": {
        "id": "il4U87Q6aGe0",
        "colab_type": "text"
      },
      "source": [
        "$\\mathbf{S(P)} = -\\mathbf{\\Sigma}_\\mathrm{i=1}(p(i)lnp(i))$"
      ]
    },
    {
      "cell_type": "code",
      "metadata": {
        "id": "iSNvcmzuaEo9",
        "colab_type": "code",
        "colab": {}
      },
      "source": [
        "def entropy(x,y):\n",
        "  #s=(-p[0])*math.log(p[0],math.e)+(-p[1])*math.log(p[1],math.e)\n",
        "  p=[]\n",
        "  p.append(x/(x+y))\n",
        "  p.append(y/(x+y))\n",
        "  s=0\n",
        "  for j in range(i):\n",
        "    s+=-p[j]*math.log(p[j],math.e)\n",
        "  return s"
      ],
      "execution_count": 0,
      "outputs": []
    },
    {
      "cell_type": "markdown",
      "metadata": {
        "id": "Q44EjQobaHlc",
        "colab_type": "text"
      },
      "source": [
        "$\\mathbf{S(C)} = \\mathbf{\\Sigma}_\\mathrm{c∈C}p(c)\\mathbf{\\Sigma}_\\mathrm{i∈c}-p(i|c)lnp(i|c)$"
      ]
    },
    {
      "cell_type": "code",
      "metadata": {
        "id": "-VKSoNXbaH3V",
        "colab_type": "code",
        "colab": {}
      },
      "source": [
        "def childrenentropy():\n",
        "  p1=0.6\n",
        "  p2=1-p1\n",
        "  sc=p1*entropy(4,2)+p2*entropy(3,1)\n",
        "  return sc"
      ],
      "execution_count": 0,
      "outputs": []
    },
    {
      "cell_type": "markdown",
      "metadata": {
        "id": "HThVyhBDcHJM",
        "colab_type": "text"
      },
      "source": [
        "S=S(P)-S(C)"
      ]
    },
    {
      "cell_type": "code",
      "metadata": {
        "id": "xwpZ7kb5cHbr",
        "colab_type": "code",
        "colab": {
          "base_uri": "https://localhost:8080/",
          "height": 35
        },
        "outputId": "f03627d5-dc68-4bc9-92ea-de5ab52c1321"
      },
      "source": [
        "gain=entropy(4,6)-childrenentropy()\n",
        "print(gain)"
      ],
      "execution_count": 70,
      "outputs": [
        {
          "output_type": "stream",
          "text": [
            "0.06616910818484556\n"
          ],
          "name": "stdout"
        }
      ]
    }
  ]
}