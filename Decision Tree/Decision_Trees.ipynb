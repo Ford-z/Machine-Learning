{
  "nbformat": 4,
  "nbformat_minor": 0,
  "metadata": {
    "colab": {
      "name": "Decision Trees",
      "provenance": [],
      "collapsed_sections": [],
      "include_colab_link": true
    },
    "kernelspec": {
      "display_name": "Python 3",
      "language": "python",
      "name": "python3"
    }
  },
  "cells": [
    {
      "cell_type": "markdown",
      "metadata": {
        "id": "view-in-github",
        "colab_type": "text"
      },
      "source": [
        "<a href=\"https://colab.research.google.com/github/Ford-z/Machine-Learning/blob/master/Decision%20Tree/Decision_Trees.ipynb\" target=\"_parent\"><img src=\"https://colab.research.google.com/assets/colab-badge.svg\" alt=\"Open In Colab\"/></a>"
      ]
    },
    {
      "cell_type": "markdown",
      "metadata": {
        "id": "zp1a7Ms2ncI1",
        "colab_type": "text"
      },
      "source": [
        "# Decision Trees"
      ]
    },
    {
      "cell_type": "code",
      "metadata": {
        "id": "WFeL8bZmncJB",
        "colab_type": "code",
        "colab": {}
      },
      "source": [
        "!pip install -q mnist # this line instructs colab to install mnist\n",
        "import matplotlib.pyplot as plt\n",
        "import mnist\n",
        "import numpy as np\n",
        "import math\n",
        "from numpy.linalg import inv, det"
      ],
      "execution_count": 0,
      "outputs": []
    },
    {
      "cell_type": "markdown",
      "metadata": {
        "id": "SEWYYv-PSUkA",
        "colab_type": "text"
      },
      "source": [
        "The C4.5 Algorithm"
      ]
    },
    {
      "cell_type": "code",
      "metadata": {
        "id": "lQc-yFLDPmxu",
        "colab_type": "code",
        "colab": {}
      },
      "source": [
        "# Priors\n",
        "i=2"
      ],
      "execution_count": 0,
      "outputs": []
    },
    {
      "cell_type": "markdown",
      "metadata": {
        "id": "il4U87Q6aGe0",
        "colab_type": "text"
      },
      "source": [
        "$\\mathbf{S(P)} = -\\mathbf{\\Sigma}_\\mathrm{i=1}(p(i)lnp(i))$"
      ]
    },
    {
      "cell_type": "code",
      "metadata": {
        "id": "iSNvcmzuaEo9",
        "colab_type": "code",
        "colab": {}
      },
      "source": [
        "def entropy(x,y):\n",
        "  #s=(-p[0])*math.log(p[0],math.e)+(-p[1])*math.log(p[1],math.e)\n",
        "  p=[]\n",
        "  p.append(x/(x+y))\n",
        "  p.append(y/(x+y))\n",
        "  s=0\n",
        "  for j in range(i):\n",
        "    if(p[j]!=0):\n",
        "      s+=-p[j]*math.log(p[j],math.e)\n",
        "    else:\n",
        "      s+=0\n",
        "  return s"
      ],
      "execution_count": 0,
      "outputs": []
    },
    {
      "cell_type": "markdown",
      "metadata": {
        "id": "Q44EjQobaHlc",
        "colab_type": "text"
      },
      "source": [
        "$\\mathbf{S(C)} = \\mathbf{\\Sigma}_\\mathrm{c∈C}p(c)\\mathbf{\\Sigma}_\\mathrm{i∈c}-p(i|c)lnp(i|c)$"
      ]
    },
    {
      "cell_type": "code",
      "metadata": {
        "id": "-VKSoNXbaH3V",
        "colab_type": "code",
        "colab": {}
      },
      "source": [
        "def childrenentropy():\n",
        "  p1=0.5\n",
        "  p2=1-p1\n",
        "  sc=p1*entropy(2,1)+p2*entropy(3,0)\n",
        "  print(sc)\n",
        "  return sc"
      ],
      "execution_count": 0,
      "outputs": []
    },
    {
      "cell_type": "markdown",
      "metadata": {
        "id": "HThVyhBDcHJM",
        "colab_type": "text"
      },
      "source": [
        "S=S(P)-S(C)"
      ]
    },
    {
      "cell_type": "code",
      "metadata": {
        "id": "xwpZ7kb5cHbr",
        "colab_type": "code",
        "outputId": "a7a1db7a-a47e-48d2-9b20-44b6a1654dd0",
        "colab": {
          "base_uri": "https://localhost:8080/",
          "height": 72
        }
      },
      "source": [
        "print(entropy(2,4))\n",
        "gain=entropy(2,4)-childrenentropy()\n",
        "print(gain)"
      ],
      "execution_count": 23,
      "outputs": [
        {
          "output_type": "stream",
          "text": [
            "0.6365141682948128\n",
            "0.3182570841474064\n",
            "0.3182570841474064\n"
          ],
          "name": "stdout"
        }
      ]
    }
  ]
}