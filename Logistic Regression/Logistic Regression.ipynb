{
  "nbformat": 4,
  "nbformat_minor": 0,
  "metadata": {
    "colab": {
      "name": "Logistic Regression.ipynb",
      "provenance": [],
      "collapsed_sections": [],
      "include_colab_link": true
    },
    "kernelspec": {
      "name": "python3",
      "display_name": "Python 3"
    }
  },
  "cells": [
    {
      "cell_type": "markdown",
      "metadata": {
        "id": "view-in-github",
        "colab_type": "text"
      },
      "source": [
        "<a href=\"https://colab.research.google.com/github/Fordzq6/Machine-Learning/blob/master/Logistic%20Regression/Logistic%20Regression.ipynb\" target=\"_parent\"><img src=\"https://colab.research.google.com/assets/colab-badge.svg\" alt=\"Open In Colab\"/></a>"
      ]
    },
    {
      "cell_type": "markdown",
      "metadata": {
        "id": "Tj0EDtiMrfaq",
        "colab_type": "text"
      },
      "source": [
        "# **Logistic Regression**"
      ]
    },
    {
      "cell_type": "code",
      "metadata": {
        "id": "TdnxO8zTrUWx",
        "colab_type": "code",
        "colab": {}
      },
      "source": [
        "import numpy as np\n",
        "import math"
      ],
      "execution_count": 0,
      "outputs": []
    },
    {
      "cell_type": "markdown",
      "metadata": {
        "id": "v-8PeCCfrkjF",
        "colab_type": "text"
      },
      "source": [
        "$P_1(\\mathbf{w,x})= \\frac{exp(w^Tx)}{1+exp(w^Tx)}\\\n",
        "$"
      ]
    },
    {
      "cell_type": "code",
      "metadata": {
        "id": "r3BZCK2-rk3h",
        "colab_type": "code",
        "colab": {}
      },
      "source": [
        "def p1(w,x):\n",
        "  p1=np.exp(w.transpose()*x)/(1+np.exp(w.transpose()*x))\n",
        "  return p1"
      ],
      "execution_count": 0,
      "outputs": []
    },
    {
      "cell_type": "markdown",
      "metadata": {
        "id": "LHOudHmEurBk",
        "colab_type": "text"
      },
      "source": [
        "$P_0(\\mathbf{w,x})= \\frac{1}{1+exp(w^Tx)}\\\n",
        "$"
      ]
    },
    {
      "cell_type": "code",
      "metadata": {
        "id": "yFLb7SLCurTm",
        "colab_type": "code",
        "colab": {}
      },
      "source": [
        "def po(w,x):\n",
        "  p0=1/(1+np.exp(w.transpose()*x))\n",
        "  return p0"
      ],
      "execution_count": 0,
      "outputs": []
    },
    {
      "cell_type": "markdown",
      "metadata": {
        "id": "_Nc7Rbi1u-Tn",
        "colab_type": "text"
      },
      "source": [
        "$ln L(w)=\\mathbf{\\Sigma}^{N}_{i=1} y_{i}exp(w^Tx)-ln(1+exp(w^Tx))\n",
        "$"
      ]
    },
    {
      "cell_type": "code",
      "metadata": {
        "id": "oChERmtWu-h3",
        "colab_type": "code",
        "colab": {}
      },
      "source": [
        "def likelihood(w,x):\n",
        "  N=1\n",
        "  likehood=-math.log((1+np.exp(w.transpose()*x)),math.e)\n",
        "  for i in range(N):\n",
        "    likehood+=i*w.transpose()*x\n",
        "  return likehood"
      ],
      "execution_count": 0,
      "outputs": []
    }
  ]
}